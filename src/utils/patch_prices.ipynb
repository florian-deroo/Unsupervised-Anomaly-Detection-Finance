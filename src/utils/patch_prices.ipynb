{
 "cells": [
  {
   "cell_type": "code",
   "id": "initial_id",
   "metadata": {
    "collapsed": true,
    "ExecuteTime": {
     "end_time": "2025-02-05T12:03:21.301652Z",
     "start_time": "2025-02-05T12:03:21.295924Z"
    }
   },
   "source": [
    "import numpy as np\n",
    "\n",
    "\n",
    "def adjust_prices_single(df):\n",
    "    df['DisFacPr'] = df['DisFacPr'].fillna(0).add(1).iloc[::-1].cumprod().iloc[::-1]\n",
    "\n",
    "    # Ajuster les colonnes de prix\n",
    "    price_columns = ['DlyOpen', 'DlyHigh', 'DlyLow', 'DlyClose']\n",
    "    for col in price_columns:\n",
    "        df[f'{col}'] = df[col] / df['DisFacPr']\n",
    "\n",
    "    return df\n",
    "\n",
    "\n",
    "def adjust_prices(df):\n",
    "    # Créer une copie pour éviter de modifier le DataFrame original\n",
    "    df_adjusted = df.copy()\n",
    "    df_adjusted = df_adjusted[df_adjusted['DlyCalDt'] > '1973-01-01']\n",
    "\n",
    "    # Liste des colonnes de prix à ajuster\n",
    "    price_columns = ['DlyOpen', 'DlyHigh', 'DlyLow', 'DlyClose']\n",
    "\n",
    "    # Partitionner le DataFrame par PERMNO pour éviter le shuffle excessif\n",
    "    df_adjusted = df_adjusted.groupby('PERMNO').apply(\n",
    "        lambda g: g.sort_values('DlyCalDt').assign(\n",
    "            DisFacPr=lambda x: x['DisFacPr'].fillna(0).add(1)[::-1].cumprod()[::-1]\n",
    "        )\n",
    "    )\n",
    "\n",
    "    # Ajuster les prix en une seule opération\n",
    "    for col in price_columns:\n",
    "        df_adjusted[col] = df_adjusted[col] / df_adjusted['DisFacPr']\n",
    "\n",
    "    return df_adjusted"
   ],
   "outputs": [],
   "execution_count": 9
  },
  {
   "metadata": {
    "ExecuteTime": {
     "end_time": "2025-02-05T11:57:54.406513Z",
     "start_time": "2025-02-05T11:57:51.521014Z"
    }
   },
   "cell_type": "code",
   "source": [
    "from src.types import dsf_dtype_dict, dsp500_list_dict\n",
    "import dask.dataframe as dd\n",
    "from dask.distributed import LocalCluster\n",
    "cluster = LocalCluster()\n",
    "client = cluster.get_client()\n",
    "\n",
    "file_to_patch = dd.read_csv(\"../../data/DSF_V2.csv\",\n",
    "                            dtype=dsf_dtype_dict,\n",
    "                            parse_dates=['DisExDt', 'DlyCalDt', 'DlyPrevDt'],\n",
    "                            )"
   ],
   "id": "e02d2b3485c0c558",
   "outputs": [],
   "execution_count": 7
  },
  {
   "metadata": {},
   "cell_type": "code",
   "source": "file_updated = adjust_prices(file_to_patch)",
   "id": "9239c55ae46dbf13",
   "outputs": [],
   "execution_count": null
  },
  {
   "metadata": {},
   "cell_type": "code",
   "source": "file_updated.to_csv(\"../../data/dsf_v2_patched.csv\")",
   "id": "7fedc3b614180498",
   "outputs": [],
   "execution_count": null
  }
 ],
 "metadata": {
  "kernelspec": {
   "display_name": "Python 3",
   "language": "python",
   "name": "python3"
  },
  "language_info": {
   "codemirror_mode": {
    "name": "ipython",
    "version": 2
   },
   "file_extension": ".py",
   "mimetype": "text/x-python",
   "name": "python",
   "nbconvert_exporter": "python",
   "pygments_lexer": "ipython2",
   "version": "2.7.6"
  }
 },
 "nbformat": 4,
 "nbformat_minor": 5
}
