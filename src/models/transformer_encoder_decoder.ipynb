{
 "cells": [
  {
   "cell_type": "code",
   "id": "b2eeab3e20fbd8d0",
   "metadata": {},
   "source": [
    "import json\n",
    "import os\n",
    "import time\n",
    "\n",
    "import numpy as np\n",
    "import pandas as pd\n",
    "import torch\n",
    "import torch.nn as nn\n",
    "import torch.optim as optim\n",
    "from torch.utils.data import DataLoader, random_split"
   ],
   "outputs": [],
   "execution_count": null
  },
  {
   "metadata": {},
   "cell_type": "code",
   "source": [
    "class TimeSeriesTransformerEncoderDecoder(nn.Module):\n",
    "    def __init__(\n",
    "            self,\n",
    "            input_dim=6,\n",
    "            seq_len=50,\n",
    "            d_model=64,\n",
    "            nhead=4,\n",
    "            num_layers=2,\n",
    "            dim_feedforward=128,\n",
    "            dropout=0.1,\n",
    "    ):\n",
    "        super().__init__()\n",
    "\n",
    "        self.input_dim = input_dim\n",
    "        self.seq_len = seq_len\n",
    "        self.d_model = d_model\n",
    "\n",
    "        self.input_embedding = nn.Linear(input_dim, d_model)\n",
    "        self.pos_encoder = PositionalEncoding(d_model, dropout, max_len=seq_len)\n",
    "        \n",
    "        encoder_layer = nn.TransformerEncoderLayer(d_model, nhead, dim_feedforward, dropout, batch_first=True)\n",
    "        decoder_layer = nn.TransformerDecoderLayer(d_model, nhead, dim_feedforward, dropout, batch_first=True)\n",
    "        \n",
    "        self.transformer_encoder = nn.TransformerEncoder(encoder_layer, num_layers)\n",
    "        self.transformer_decoder = nn.TransformerDecoder(decoder_layer, num_layers)\n",
    "        \n",
    "        self.output_layer = nn.Linear(d_model, input_dim)\n",
    "\n",
    "    def forward(self, src):\n",
    "        src = src.transpose(1, 2)  # [batch_size, seq_len, input_dim]\n",
    "        src_embedded = self.input_embedding(src)\n",
    "        src_embedded = self.pos_encoder(src_embedded)\n",
    "        \n",
    "        memory = self.transformer_encoder(src_embedded)\n",
    "        output = self.transformer_decoder(memory, memory)  # tgt = memory pour reconstruction\n",
    "        output = self.output_layer(output)\n",
    "        output = output.transpose(1, 2)  # [batch_size, input_dim, seq_len]\n",
    "        return output\n",
    "\n",
    "class PositionalEncoding(nn.Module):\n",
    "    def __init__(self, d_model, dropout=0.1, max_len=5000):\n",
    "        super(PositionalEncoding, self).__init__()\n",
    "        self.dropout = nn.Dropout(p=dropout)\n",
    "\n",
    "        pe = torch.zeros(max_len, d_model)\n",
    "        position = torch.arange(0, max_len, dtype=torch.float).unsqueeze(1)\n",
    "        div_term = torch.exp(torch.arange(0, d_model, 2).float() * (-np.log(10000.0) / d_model))\n",
    "        pe[:, 0::2] = torch.sin(position * div_term)\n",
    "        pe[:, 1::2] = torch.cos(position * div_term)\n",
    "        pe = pe.unsqueeze(0)\n",
    "        self.register_buffer('pe', pe)\n",
    "\n",
    "    def forward(self, x):\n",
    "        x = x + self.pe[:, :x.size(1), :]\n",
    "        return self.dropout(x)"
   ],
   "id": "f9b9de2b152f2545",
   "outputs": [],
   "execution_count": null
  },
  {
   "metadata": {},
   "cell_type": "code",
   "source": [
    "# All windows\n",
    "\n",
    "data = pd.read_csv(\"./final_stocks_2.csv\", usecols=[\"log_return_DlyClose\", \"log_return_DlyLow\", \"log_return_DlyHigh\", \"log_return_DlyBid\", \"log_return_DlyAsk\", \"volume_normalized\"])"
   ],
   "id": "e1e7d4af4911bee4",
   "outputs": [],
   "execution_count": null
  },
  {
   "metadata": {},
   "cell_type": "code",
   "source": [
    "# Positive Future windows\n",
    "\n",
    "data = pd.read_csv(\"./final_stocks_4.csv\", usecols=[\"DlyClose\", \"DlyLow\", \"DlyHigh\", \"DlyBid\", \"DlyAsk\", \"DlyVol\"])"
   ],
   "id": "2fca87d8affd4a9c",
   "outputs": [],
   "execution_count": null
  },
  {
   "metadata": {},
   "cell_type": "code",
   "source": [
    "# Negative Future windows\n",
    "\n",
    "data = pd.read_csv(\"./final_stocks_negative.csv\", usecols=[\"DlyClose\", \"DlyLow\", \"DlyHigh\", \"DlyBid\", \"DlyAsk\", \"DlyVol\"])"
   ],
   "id": "c7fa7449ee842223",
   "outputs": [],
   "execution_count": null
  },
  {
   "metadata": {},
   "cell_type": "code",
   "source": "seq_length = 50",
   "id": "1bd7d9fe646b5c17",
   "outputs": [],
   "execution_count": null
  },
  {
   "metadata": {},
   "cell_type": "code",
   "source": [
    "# Load data to train\n",
    "\n",
    "stride = seq_length\n",
    "windows = np.array([data[i:i + seq_length] for i in range(0, len(data) - seq_length - 1, stride)])\n",
    "windows = torch.FloatTensor(windows).transpose(1, 2)\n",
    "train_size = int(0.9 * len(windows))\n",
    "val_size = len(windows) - train_size\n",
    "train_data, test_data = random_split(windows, [train_size, val_size])\n",
    "train_loader = DataLoader(train_data, batch_size=32, shuffle=True)\n",
    "test_loader = DataLoader(test_data, batch_size=32)"
   ],
   "id": "8da9b3807ab045f0",
   "outputs": [],
   "execution_count": null
  },
  {
   "metadata": {},
   "cell_type": "code",
   "source": [
    "# Création des modèles\n",
    "device = torch.device('cuda' if torch.cuda.is_available() else 'cpu')\n",
    "batch_size = 32\n",
    "seq_len = 50\n",
    "input_dim = 6\n",
    "d_model = 64\n",
    "n_head=4\n",
    "num_layers=2\n",
    "dim_feedforward=128\n",
    "epochs = 10\n",
    "learning_rate = 0.001\n",
    "latent_dim = d_model\n",
    "\n",
    "model_folder = \"models/transformer_encoder_decoder_negative/\"\n",
    "\n",
    "model = TimeSeriesTransformerEncoderDecoder(\n",
    "    input_dim=input_dim,\n",
    "    seq_len=seq_len,\n",
    "    d_model=d_model,\n",
    "    nhead=n_head,\n",
    "    num_layers=num_layers,\n",
    "    dim_feedforward=dim_feedforward,\n",
    "    dropout=0.1\n",
    ").to(device)\n",
    "\n",
    "optimizer = optim.Adam(model.parameters(), lr=learning_rate)"
   ],
   "id": "d9b0b15ffee9df54",
   "outputs": [],
   "execution_count": null
  },
  {
   "metadata": {},
   "cell_type": "code",
   "source": [
    "timer = time.time()\n",
    "folder = model_folder + str(timer) + \"/\"\n",
    "os.makedirs(folder + \"checkpoints/\", exist_ok=True)\n",
    "\n",
    "# Sauvegarde de la configuration\n",
    "config = {\n",
    "    # Paramètres d'entraînement\n",
    "    'batch_size': batch_size,\n",
    "    'epochs': epochs,\n",
    "    'learning_rate': learning_rate,\n",
    "    'device': str(device),\n",
    "    \n",
    "    # Paramètres du modèle\n",
    "    'input_dim': input_dim,\n",
    "    'seq_len': seq_length,\n",
    "    'num_layers': num_layers,\n",
    "    'dim_feedforward': dim_feedforward,\n",
    "    'n_head': n_head,\n",
    "    'd_model': d_model,\n",
    "    \n",
    "    # Informations sur l'architecture\n",
    "    'optimizer': optimizer.__class__.__name__,\n",
    "    \n",
    "    # Timestamp et dossier\n",
    "    'timestamp': timer,\n",
    "    'model_folder': model_folder\n",
    "}\n",
    "\n",
    "# Sauvegarde de la configuration\n",
    "with open(folder + 'config.json', 'w', encoding='utf-8') as f:\n",
    "    json.dump(config, f, ensure_ascii=False, indent=4)"
   ],
   "id": "80966d3aa2198bb9",
   "outputs": [],
   "execution_count": null
  },
  {
   "metadata": {},
   "cell_type": "code",
   "source": [
    "from src.utils.train import train_model\n",
    "\n",
    "train_model(model, 100, train_loader, test_loader, optimizer, device, folder)"
   ],
   "id": "f36ca52f707b0ca4",
   "outputs": [],
   "execution_count": null
  },
  {
   "metadata": {},
   "cell_type": "code",
   "source": [
    "timestamp = \"1740400132.6410854\"\n",
    "path_checkpoint = model_folder + timestamp + \"/checkpoints/model_epoch_11.pt\""
   ],
   "id": "9028c0010f480a64",
   "outputs": [],
   "execution_count": null
  },
  {
   "metadata": {},
   "cell_type": "code",
   "source": [
    "checkpoint = torch.load(path_checkpoint)\n",
    "model.load_state_dict(checkpoint['transformer_state_dict'])\n",
    "optimizer.load_state_dict(checkpoint['optimizer_state_dict'])\n",
    "model.eval()"
   ],
   "id": "7e02ea379279be0b",
   "outputs": [],
   "execution_count": null
  },
  {
   "metadata": {},
   "cell_type": "code",
   "source": [
    "from src.types import dsf_dtype_dict\n",
    "\n",
    "dsf = pd.read_csv(\"./dsf_v2_patched_small.csv\",\n",
    "                  dtype=dsf_dtype_dict,\n",
    "                  parse_dates=['DlyCalDt'],\n",
    "                  usecols=['DlyCalDt', 'PERMNO', 'DlyClose']\n",
    "                  )"
   ],
   "id": "608ca3a25b6af88",
   "outputs": [],
   "execution_count": null
  },
  {
   "metadata": {},
   "cell_type": "code",
   "source": [
    "# ALL WINDOWS\n",
    "final_stocks = pd.read_csv(\"./final_stocks_2.csv\")"
   ],
   "id": "245a23609fd77071",
   "outputs": [],
   "execution_count": null
  },
  {
   "metadata": {},
   "cell_type": "code",
   "source": [
    "from src.benchmark.benchmark import build_predictions\n",
    "\n",
    "predictions_results = build_predictions(model, final_stocks, device, model_folder + timestamp + \"/\")"
   ],
   "id": "5a90e438623ec8ed",
   "outputs": [],
   "execution_count": null
  },
  {
   "metadata": {},
   "cell_type": "code",
   "source": "predictions_results = pd.read_csv(folder + \"predictions_results.csv\")",
   "id": "ae96a3d03ffb4c2c",
   "outputs": [],
   "execution_count": null
  },
  {
   "metadata": {},
   "cell_type": "code",
   "source": [
    "from src.benchmark.benchmark import build_quantiles\n",
    "\n",
    "quantiles = [0.98, 0.99, 0.994, 0.995, 0.996, 0.997]\n",
    "quantiles_results = build_quantiles(predictions_results, quantiles, dsf)"
   ],
   "id": "1b46a397160da830",
   "outputs": [],
   "execution_count": null
  },
  {
   "metadata": {},
   "cell_type": "code",
   "source": [
    "from src.benchmark.benchmark import analyze_quantiles\n",
    "\n",
    "analyze_quantiles(quantiles_results, model_folder + timestamp + \"/stats\", False)\n",
    "analyze_quantiles(quantiles_results, model_folder + timestamp + \"/stats\", True)"
   ],
   "id": "782524419deb4ea",
   "outputs": [],
   "execution_count": null
  }
 ],
 "metadata": {
  "kernelspec": {
   "display_name": "Python 3",
   "language": "python",
   "name": "python3"
  },
  "language_info": {
   "codemirror_mode": {
    "name": "ipython",
    "version": 2
   },
   "file_extension": ".py",
   "mimetype": "text/x-python",
   "name": "python",
   "nbconvert_exporter": "python",
   "pygments_lexer": "ipython2",
   "version": "2.7.6"
  }
 },
 "nbformat": 4,
 "nbformat_minor": 5
}
